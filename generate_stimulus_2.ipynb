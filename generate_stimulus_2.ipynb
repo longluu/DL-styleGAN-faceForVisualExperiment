{
 "cells": [
  {
   "cell_type": "code",
   "execution_count": 2,
   "metadata": {
    "colab": {
     "base_uri": "https://localhost:8080/",
     "height": 101
    },
    "colab_type": "code",
    "executionInfo": {
     "elapsed": 4821,
     "status": "ok",
     "timestamp": 1577751677168,
     "user": {
      "displayName": "The L Luu",
      "photoUrl": "https://lh3.googleusercontent.com/a-/AAuE7mB_3ZBL-Hed3Ayp6qSd2AJiAw9iMETnFU1EGtvL=s64",
      "userId": "15411494619922216607"
     },
     "user_tz": 300
    },
    "id": "DUbk7oxCoyTp",
    "outputId": "8d731cd2-aa1a-4190-8087-dc449a0b9795"
   },
   "outputs": [
    {
     "name": "stdout",
     "output_type": "stream",
     "text": [
      "Cloning into 'stylegan'...\n",
      "remote: Enumerating objects: 83, done.\u001b[K\n",
      "remote: Total 83 (delta 0), reused 0 (delta 0), pack-reused 83\u001b[K\n",
      "Unpacking objects: 100% (83/83), done.\n",
      "/content/stylegan\n"
     ]
    }
   ],
   "source": [
    "! git clone https://github.com/NVlabs/stylegan\n",
    "%cd stylegan/"
   ]
  },
  {
   "cell_type": "code",
   "execution_count": 0,
   "metadata": {
    "colab": {},
    "colab_type": "code",
    "id": "XFieLrZLo68s"
   },
   "outputs": [],
   "source": [
    "import os\n",
    "import pickle\n",
    "import numpy as np\n",
    "import PIL.Image\n",
    "import dnnlib\n",
    "import dnnlib.tflib as tflib\n",
    "import config\n",
    "\n",
    "#----------------------------------------------------------------------------\n",
    "# Helpers for loading and using pre-trained generators.\n",
    "\n",
    "url_ffhq        = 'https://drive.google.com/uc?id=1MEGjdvVpUsu1jB4zrXZN7Y4kBBOzizDQ' # karras2019stylegan-ffhq-1024x1024.pkl\n",
    "url_celebahq    = 'https://drive.google.com/uc?id=1MGqJl28pN4t7SAtSrPdSRJSQJqahkzUf' # karras2019stylegan-celebahq-1024x1024.pkl\n",
    "url_bedrooms    = 'https://drive.google.com/uc?id=1MOSKeGF0FJcivpBI7s63V9YHloUTORiF' # karras2019stylegan-bedrooms-256x256.pkl\n",
    "url_cars        = 'https://drive.google.com/uc?id=1MJ6iCfNtMIRicihwRorsM3b7mmtmK9c3' # karras2019stylegan-cars-512x384.pkl\n",
    "url_cats        = 'https://drive.google.com/uc?id=1MQywl0FNt6lHu8E_EUqnRbviagS7fbiJ' # karras2019stylegan-cats-256x256.pkl\n",
    "\n",
    "synthesis_kwargs = dict(output_transform=dict(func=tflib.convert_images_to_uint8, nchw_to_nhwc=True), minibatch_size=8)\n",
    "\n",
    "_Gs_cache = dict()\n",
    "\n",
    "def load_Gs(url):\n",
    "    if url not in _Gs_cache:\n",
    "        with dnnlib.util.open_url(url, cache_dir=config.cache_dir) as f:\n",
    "            _G, _D, Gs = pickle.load(f)\n",
    "        _Gs_cache[url] = Gs\n",
    "    return _Gs_cache[url]\n",
    "\n",
    "# Download to Drive (works for big files)\n",
    "# This only needs to be done once in a notebook.\n",
    "!pip install -U -q PyDrive\n",
    "from pydrive.auth import GoogleAuth\n",
    "from pydrive.drive import GoogleDrive\n",
    "from google.colab import auth\n",
    "from oauth2client.client import GoogleCredentials\n",
    "\n",
    "# Authenticate and create the PyDrive client.\n",
    "# This only needs to be done once in a notebook.\n",
    "auth.authenticate_user()\n",
    "gauth = GoogleAuth()\n",
    "gauth.credentials = GoogleCredentials.get_application_default()\n",
    "drive = GoogleDrive(gauth)"
   ]
  },
  {
   "cell_type": "code",
   "execution_count": 10,
   "metadata": {
    "colab": {
     "base_uri": "https://localhost:8080/",
     "height": 70
    },
    "colab_type": "code",
    "executionInfo": {
     "elapsed": 2049796,
     "status": "ok",
     "timestamp": 1577754391757,
     "user": {
      "displayName": "The L Luu",
      "photoUrl": "https://lh3.googleusercontent.com/a-/AAuE7mB_3ZBL-Hed3Ayp6qSd2AJiAw9iMETnFU1EGtvL=s64",
      "userId": "15411494619922216607"
     },
     "user_tz": 300
    },
    "id": "qxvu-OBro9IT",
    "outputId": "e27c7845-8225-4473-c611-fc7009954022"
   },
   "outputs": [
    {
     "name": "stderr",
     "output_type": "stream",
     "text": [
      "/usr/local/lib/python3.6/dist-packages/IPython/core/interactiveshell.py:2822: FutureWarning: arrays to stack must be passed as a \"sequence\" type such as list or tuple. Support for non-sequence iterables such as generators is deprecated as of NumPy 1.16 and will raise an error in the future.\n",
      "  if self.run_code(code, result):\n"
     ]
    }
   ],
   "source": [
    "# Style mixing - mix n_mix_layer of mix n_mix_layer of mixing image to reference image.\n",
    "from itertools import chain\n",
    "import timeit\n",
    "start = timeit.timeit()\n",
    "\n",
    "tflib.init_tf()\n",
    "os.makedirs(config.result_dir, exist_ok=True)\n",
    "\n",
    "Gs = load_Gs(url_ffhq)\n",
    "w = 1024\n",
    "h = 1024\n",
    "style_ranges = [range(8,18), range(2,4)]\n",
    "master_seeds = [701,687,615,2268,888,829,1898,1733,1614,845,1967,1555,1157,1012,91,388,201,500]\n",
    "mix_seeds = master_seeds \n",
    "original_seeds = master_seeds\n",
    "\n",
    "mix_latents = np.stack(np.random.RandomState(seed).randn(Gs.input_shape[1]) for seed in mix_seeds)\n",
    "original_latents = np.stack(np.random.RandomState(seed).randn(Gs.input_shape[1]) for seed in original_seeds)\n",
    "mix_dlatents = Gs.components.mapping.run(mix_latents, None) # [seed, layer, component]\n",
    "original_dlatents = Gs.components.mapping.run(original_latents, None) # [seed, layer, component]\n",
    "mix_images = Gs.components.synthesis.run(mix_dlatents, randomize_noise=False, **synthesis_kwargs)\n",
    "original_images = Gs.components.synthesis.run(original_dlatents, randomize_noise=False, **synthesis_kwargs)\n",
    "\n",
    "\n",
    "\n",
    "for original_ind, original_image in enumerate(list(original_images)):\n",
    "    # Save original image\n",
    "    canvas_original = PIL.Image.new(mode = 'RGB', size = (w, h), color = 'white')\n",
    "    canvas_original.paste(PIL.Image.fromarray(original_image, 'RGB'), (0, 0))\n",
    "    file_name = \"{}_original.png\".format(original_seeds[original_ind])\n",
    "    canvas_original.save(file_name)\n",
    "    uploaded = drive.CreateFile({'title': file_name})\n",
    "    uploaded.SetContentFile(file_name)\n",
    "    uploaded.Upload()\n",
    "\n",
    "    for style_ind, style in enumerate(list(style_ranges)):\n",
    "        # Mix the images\n",
    "        row_dlatents = np.stack([original_dlatents[original_ind]] * len(mix_seeds))\n",
    "        row_dlatents[:, style] = mix_dlatents[:, style]\n",
    "        row_images = Gs.components.synthesis.run(row_dlatents, randomize_noise=False, **synthesis_kwargs)\n",
    "\n",
    "        # Save the mix images\n",
    "        for variant, image in enumerate(list(row_images)):\n",
    "            canvas_mix = PIL.Image.new('RGB', (w, h), 'white')\n",
    "            canvas_mix.paste(PIL.Image.fromarray(image, 'RGB'), (0, 0))\n",
    "            file_name = \"{}_{}_{}.png\".format(original_seeds[original_ind], style, mix_seeds[variant])\n",
    "            canvas_mix.save(file_name)\n",
    "            uploaded = drive.CreateFile({'title': file_name})\n",
    "            uploaded.SetContentFile(file_name)\n",
    "            uploaded.Upload()\n",
    "\n",
    "end = timeit.timeit()\n",
    "print(end - start)"
   ]
  },
  {
   "cell_type": "code",
   "execution_count": 5,
   "metadata": {
    "colab": {
     "base_uri": "https://localhost:8080/",
     "height": 34
    },
    "colab_type": "code",
    "executionInfo": {
     "elapsed": 890,
     "status": "ok",
     "timestamp": 1577751818205,
     "user": {
      "displayName": "The L Luu",
      "photoUrl": "https://lh3.googleusercontent.com/a-/AAuE7mB_3ZBL-Hed3Ayp6qSd2AJiAw9iMETnFU1EGtvL=s64",
      "userId": "15411494619922216607"
     },
     "user_tz": 300
    },
    "id": "wOBmR3uPx173",
    "outputId": "140adc70-7172-4f2d-f3df-7361e70d1836"
   },
   "outputs": [
    {
     "data": {
      "text/plain": [
       "[[845]]"
      ]
     },
     "execution_count": 5,
     "metadata": {
      "tags": []
     },
     "output_type": "execute_result"
    }
   ],
   "source": [
    "original_seeds"
   ]
  }
 ],
 "metadata": {
  "accelerator": "GPU",
  "colab": {
   "name": "generate_stimulus_change_blindness2.ipynb",
   "provenance": []
  },
  "kernelspec": {
   "display_name": "Python 3",
   "language": "python",
   "name": "python3"
  },
  "language_info": {
   "codemirror_mode": {
    "name": "ipython",
    "version": 3
   },
   "file_extension": ".py",
   "mimetype": "text/x-python",
   "name": "python",
   "nbconvert_exporter": "python",
   "pygments_lexer": "ipython3",
   "version": "3.7.3"
  }
 },
 "nbformat": 4,
 "nbformat_minor": 1
}
